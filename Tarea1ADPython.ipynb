{
  "cells": [
    {
      "cell_type": "markdown",
      "metadata": {
        "id": "vXHfsdtqQRwm"
      },
      "source": [
        "**Tarea 1. Maestría en Ciencias Matemáticas Aplicadas e Industriales - Análsis de Datos con Python**\n",
        "Alumno: Brandon Eduardo Antonio Gómez"
      ]
    },
    {
      "cell_type": "markdown",
      "metadata": {
        "id": "UhAZRelBQjQj"
      },
      "source": [
        "1. Crea un bucle para obtener el promedio de todos los elementos que se encuentran en las siguientes listas:"
      ]
    },
    {
      "cell_type": "code",
      "execution_count": null,
      "metadata": {
        "colab": {
          "base_uri": "https://localhost:8080/"
        },
        "id": "FKJTgbElQdp0",
        "outputId": "c1c73010-40ff-4b53-a38e-6872e25bd8d1"
      },
      "outputs": [
        {
          "output_type": "stream",
          "name": "stdout",
          "text": [
            "7.5\n"
          ]
        }
      ],
      "source": [
        "L1=[7.2,7.8,6.8,8.0,None,'8.2',5.6,8.2,7.7,7.5,None,5.8]\n",
        "L2=['6.8',None,6.8,6.1,7.9,9.4,None]\n",
        "L3=[8.5,'9.0',None,7.7]\n",
        "\n",
        "L_total = L1 + L2 + L3\n",
        "\n",
        "L = []\n",
        "for i in L_total:\n",
        "  if not i is None:\n",
        "    L.append(float(i)) # se convierten las cadenas en flotantes\n",
        "# Se imprime el promedio\n",
        "print(sum(L)/ len(L))"
      ]
    },
    {
      "cell_type": "markdown",
      "metadata": {
        "id": "NIFqUGX2-I_u"
      },
      "source": [
        "2. Crea un bucle que divida en 3 listas del mismo tamaño a los elementos de las listas anteriores ordenados de menor a mayor."
      ]
    },
    {
      "cell_type": "code",
      "source": [
        "# Se ordena la lista\n",
        "L.sort()\n",
        "\n",
        "# se divide la lista ordenada en 3 partes\n",
        "n = len(L)\n",
        "tamaño = n // 3 # calcula el tamaño base que tendrá cada una de las 3 listas\n",
        "# cuando se divide una lista más grande en 3 partes iguales o casi iguales.\n",
        "# es división entera en Python, es decir, redondea hacia abajo al\n",
        "# entero más cercano.\n",
        "resto = n % 3\n",
        "\n",
        "listas_divididas = []\n",
        "inicio = 0\n",
        "\n",
        "for i in range(3):\n",
        "    fin = inicio + tamaño + (1 if i < resto else 0)\n",
        "    listas_divididas.append(L[inicio:fin])\n",
        "    inicio = fin\n",
        "\n",
        "# Se muestran las 3 listas resultantes\n",
        "for idx, sublista in enumerate(listas_divididas, 1):\n",
        "    print(f\"Lista {idx}: {sublista}\")"
      ],
      "metadata": {
        "colab": {
          "base_uri": "https://localhost:8080/"
        },
        "id": "gG0ASL2GA3-v",
        "outputId": "ce1a8e7e-7220-4876-c1b2-a06953582018"
      },
      "execution_count": null,
      "outputs": [
        {
          "output_type": "stream",
          "name": "stdout",
          "text": [
            "Lista 1: [5.6, 5.8, 6.1, 6.8, 6.8, 6.8]\n",
            "Lista 2: [7.2, 7.5, 7.7, 7.7, 7.8, 7.9]\n",
            "Lista 3: [8.0, 8.2, 8.2, 8.5, 9.0, 9.4]\n"
          ]
        }
      ]
    },
    {
      "cell_type": "markdown",
      "metadata": {
        "id": "8OipKeeT7tGZ"
      },
      "source": [
        "3. Crea una código que reciba del usuario nueve elementos de una matriz cuadrada de 3x3 y que retorne el determinante de la matriz."
      ]
    },
    {
      "cell_type": "code",
      "execution_count": null,
      "metadata": {
        "colab": {
          "base_uri": "https://localhost:8080/"
        },
        "id": "lDq4cvFz75fk",
        "outputId": "9da91608-d5d4-4628-98ec-e86881bc6f01"
      },
      "outputs": [
        {
          "name": "stdout",
          "output_type": "stream",
          "text": [
            "Ingrese el elemento a11: 2\n",
            "Ingrese el elemento a12: -1\n",
            "Ingrese el elemento a13: 0\n",
            "ingrese el elemento a21: -2\n",
            "Ingrese el elemento a22: 3\n",
            "Ingrese el elemento a23: 4\n",
            "Ingrese el elemento a31: -5\n",
            "Ingrese el elemento a32: 1\n",
            "Ingrese el elemento a33: 6\n",
            "El determinante de la matriz A es: 36.0\n"
          ]
        }
      ],
      "source": [
        "# Se definen los elementos de la matriz cuadrada de 3x3, con elementos a_ij\n",
        "a11 = float(input(\"Ingrese el elemento a11: \"))\n",
        "a12 = float(input(\"Ingrese el elemento a12: \"))\n",
        "a13 = float(input(\"Ingrese el elemento a13: \"))\n",
        "a21 = float(input(\"ingrese el elemento a21: \"))\n",
        "a22 = float(input(\"Ingrese el elemento a22: \"))\n",
        "a23 = float(input(\"Ingrese el elemento a23: \"))\n",
        "a31 = float(input(\"Ingrese el elemento a31: \"))\n",
        "a32 = float(input(\"Ingrese el elemento a32: \"))\n",
        "a33 = float(input(\"Ingrese el elemento a33: \"))\n",
        "\n",
        "# Se define el arreglo para formar a la matriz A\n",
        "import numpy as np\n",
        "A = np.array([[a11, a12, a13],\n",
        "              [a21, a22, a23],\n",
        "              [a31, a32, a33]])\n",
        "detA = np.linalg.det(A)\n",
        "print(\"El determinante de la matriz A es:\", detA)"
      ]
    },
    {
      "cell_type": "markdown",
      "metadata": {
        "id": "y9GdJxpS_6Ll"
      },
      "source": [
        "4. Crea un código que reciba una cadena de caracteres y arroje la respuesta de si es un estado ó una capital del país."
      ]
    },
    {
      "cell_type": "code",
      "execution_count": null,
      "metadata": {
        "id": "AY5tgYIQ_8JZ",
        "colab": {
          "base_uri": "https://localhost:8080/"
        },
        "outputId": "cecf25e1-4528-4813-b75d-c8f0e9120789"
      },
      "outputs": [
        {
          "output_type": "stream",
          "name": "stdout",
          "text": [
            "Escribe el nombre de un estado o capital: toluca\n",
            "'Toluca' es una capital.\n"
          ]
        }
      ],
      "source": [
        "\n",
        "\n",
        "# Se define un diccionario de estados y capitales (clave: estado, valor: capital)\n",
        "estados_capitales = {\n",
        "    \"Aguascalientes\": \"Aguascalientes\",\n",
        "    \"Baja California\": \"Mexicali\",\n",
        "    \"Baja California Sur\": \"La Paz\",\n",
        "    \"Campeche\": \"San Francisco de Campeche\",\n",
        "    \"Chiapas\": \"Tuxtla Gutiérrez\",\n",
        "    \"Chihuahua\": \"Chihuahua\",\n",
        "    \"Ciudad de México\": \"Ciudad de México\",\n",
        "    \"Coahuila\": \"Saltillo\",\n",
        "    \"Colima\": \"Colima\",\n",
        "    \"Durango\": \"Victoria de Durango\",\n",
        "    \"Estado de México\": \"Toluca\",\n",
        "    \"Guanajuato\": \"Guanajuato\",\n",
        "    \"Guerrero\": \"Chilpancingo\",\n",
        "    \"Hidalgo\": \"Pachuca\",\n",
        "    \"Jalisco\": \"Guadalajara\",\n",
        "    \"Michoacán\": \"Morelia\",\n",
        "    \"Morelos\": \"Cuernavaca\",\n",
        "    \"Nayarit\": \"Tepic\",\n",
        "    \"Nuevo León\": \"Monterrey\",\n",
        "    \"Oaxaca\": \"Oaxaca de Juárez\",\n",
        "    \"Puebla\": \"Puebla\",\n",
        "    \"Querétaro\": \"Santiago de Querétaro\",\n",
        "    \"Quintana Roo\": \"Chetumal\",\n",
        "    \"San Luis Potosí\": \"San Luis Potosí\",\n",
        "    \"Sinaloa\": \"Culiacán\",\n",
        "    \"Sonora\": \"Hermosillo\",\n",
        "    \"Tabasco\": \"Villahermosa\",\n",
        "    \"Tamaulipas\": \"Ciudad Victoria\",\n",
        "    \"Tlaxcala\": \"Tlaxcala\",\n",
        "    \"Veracruz\": \"Xalapa\",\n",
        "    \"Yucatán\": \"Mérida\",\n",
        "    \"Zacatecas\": \"Zacatecas\"\n",
        "}\n",
        "\n",
        "# Convertimos todas las entradas a minúsculas para hacer comparación sin distinguir mayúsculas\n",
        "estados_minuscula = {estado.lower(): estado for estado in estados_capitales}\n",
        "capitales_minuscula = {capital.lower(): capital for capital in estados_capitales.values()}\n",
        "\n",
        "# Se solicita al usuario un el nonre de un estado o capital (entrada)\n",
        "entrada = input(\"Escribe el nombre de un estado o capital: \").strip().lower()\n",
        "\n",
        "# Comparamos con las claves del diccionario en minúsculas\n",
        "if entrada in estados_minuscula:\n",
        "    print(f\"'{estados_minuscula[entrada]}' es un estado.\")\n",
        "elif entrada in capitales_minuscula:\n",
        "    print(f\"'{capitales_minuscula[entrada]}' es una capital.\")\n",
        "else:\n",
        "    print(\"No es un estado ni una capital conocidos.\")\n",
        "\n",
        "\n",
        "\n"
      ]
    },
    {
      "cell_type": "markdown",
      "metadata": {
        "id": "L6MzQTxuBlsG"
      },
      "source": [
        "5. Pide al usuario dos listas de números reales (misma longitud) y calcula su producto escalar usando un bucle for."
      ]
    },
    {
      "cell_type": "code",
      "execution_count": null,
      "metadata": {
        "colab": {
          "base_uri": "https://localhost:8080/"
        },
        "id": "v_AE2K9WBrYs",
        "outputId": "08bf5bec-04a4-4804-9c73-85a11f5ef1f4"
      },
      "outputs": [
        {
          "name": "stdout",
          "output_type": "stream",
          "text": [
            "Ingrese la longitud de las listas: 3\n",
            "Ingrese el elemento 1 de la primera lista: 2\n",
            "Ingrese el elemento 1 de la segunda lista: 5\n",
            "Ingrese el elemento 2 de la primera lista: 6\n",
            "Ingrese el elemento 2 de la segunda lista: -2\n",
            "Ingrese el elemento 3 de la primera lista: 7\n",
            "Ingrese el elemento 3 de la segunda lista: 8\n",
            "El producto escalar de las listas es: 54.0\n"
          ]
        }
      ],
      "source": [
        "# Se definen dos listas de números reales de igual longitud\n",
        "lista1 = []\n",
        "lista2 = []\n",
        "\n",
        "n = int(input(\"Ingrese la longitud de las listas: \")) # se pide el tamáno de la lista\n",
        "\n",
        "# se define un bucle for para calcular el producto escalar\n",
        "for i in range(n):\n",
        "    elementos1 = float(input(f\"Ingrese el elemento {i+1} de la primera lista: \"))\n",
        "    elementos2 = float(input(f\"Ingrese el elemento {i+1} de la segunda lista: \"))\n",
        "    lista1.append(elementos1)\n",
        "    lista2.append(elementos2)\n",
        "\n",
        "producto_escalar = 0\n",
        "for i in range(n):\n",
        "    producto_escalar += lista1[i] * lista2[i]\n",
        "\n",
        "print(\"El producto escalar de las listas es:\", producto_escalar)\n",
        "\n",
        "\n"
      ]
    },
    {
      "cell_type": "markdown",
      "metadata": {
        "id": "V86u6_DXDW2y"
      },
      "source": [
        "6. Utiliza un bucle while True para pedir números al usuario y agregarlos a una lista. Cuando la suma total de los elementos sea mayor a 100, el programa debe detenerse y mostrar la lista y la suma final."
      ]
    },
    {
      "cell_type": "code",
      "execution_count": null,
      "metadata": {
        "colab": {
          "base_uri": "https://localhost:8080/"
        },
        "id": "heeqsSHoDaKf",
        "outputId": "0ed4dd09-f907-426d-f171-5daa1dbfd154"
      },
      "outputs": [
        {
          "name": "stdout",
          "output_type": "stream",
          "text": [
            "Ingrese un número: 5\n",
            "Ingrese un número: 95\n",
            "Ingrese un número: 2\n",
            "La lista es: [5.0, 95.0, 2.0]\n",
            "La suma total es: 102.0\n"
          ]
        }
      ],
      "source": [
        "# Se define la variable lista\n",
        "lista = []\n",
        "\n",
        "while True:\n",
        "  n = float(input(\"Ingresa un número: \"))\n",
        "  lista.append(n)\n",
        "  suma = sum(lista)\n",
        "  if suma > 100:\n",
        "    break\n",
        "\n",
        "print(\"La lista es:\", lista)\n",
        "print(\"La suma total es:\", suma)"
      ]
    },
    {
      "cell_type": "markdown",
      "metadata": {
        "id": "MJvb-nfOGqGJ"
      },
      "source": [
        "7. Crea una lista vacía y presenta al usuario un menú como este dentro de un while True:\n",
        "\n",
        "El usuario debe poder ejecutar varias opciones hasta que elija salir."
      ]
    },
    {
      "cell_type": "code",
      "execution_count": null,
      "metadata": {
        "colab": {
          "base_uri": "https://localhost:8080/"
        },
        "id": "VU6LQzzYGuV8",
        "outputId": "bef1f76c-46da-4705-829d-8112190657ec"
      },
      "outputs": [
        {
          "output_type": "stream",
          "name": "stdout",
          "text": [
            "\n",
            "Menú:\n",
            "1. Agregar número\n",
            "2. Mostrar lista\n",
            "3. Salir\n",
            "Seleccione una opción: 1\n",
            "Ingrese un número: 5\n",
            "Número agregado.\n",
            "\n",
            "Menú:\n",
            "1. Agregar número\n",
            "2. Mostrar lista\n",
            "3. Salir\n",
            "Seleccione una opción: 1\n",
            "Ingrese un número: 6\n",
            "Número agregado.\n",
            "\n",
            "Menú:\n",
            "1. Agregar número\n",
            "2. Mostrar lista\n",
            "3. Salir\n",
            "Seleccione una opción: 2\n",
            "Lista actual: [5.0, 6.0]\n",
            "\n",
            "Menú:\n",
            "1. Agregar número\n",
            "2. Mostrar lista\n",
            "3. Salir\n",
            "Seleccione una opción: 3\n",
            "Saliendo del programa.\n"
          ]
        }
      ],
      "source": [
        "lista = []\n",
        "\n",
        "while True:\n",
        "    print(\"\\nMenú:\")\n",
        "    print(\"1. Agregar número\")\n",
        "    print(\"2. Mostrar lista\")\n",
        "    print(\"3. Salir\")\n",
        "\n",
        "    opcion = input(\"Seleccione una opción: \")\n",
        "\n",
        "    if opcion == \"1\":\n",
        "        numero = float(input(\"Ingrese un número: \"))\n",
        "        lista.append(numero) # se agrega el numero a la lista\n",
        "        print(\"Número agregado.\")\n",
        "    elif opcion == \"2\":\n",
        "        print(\"Lista actual:\", lista)\n",
        "    elif opcion == \"3\":\n",
        "        print(\"Saliendo del programa.\")\n",
        "        break\n",
        "    else:\n",
        "        print(\"Opción inválida. Por favor, seleccione una opción válida.\")\n"
      ]
    }
  ],
  "metadata": {
    "colab": {
      "provenance": []
    },
    "kernelspec": {
      "display_name": "Python 3",
      "name": "python3"
    },
    "language_info": {
      "name": "python"
    }
  },
  "nbformat": 4,
  "nbformat_minor": 0
}