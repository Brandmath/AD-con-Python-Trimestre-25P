{
  "nbformat": 4,
  "nbformat_minor": 0,
  "metadata": {
    "colab": {
      "provenance": []
    },
    "kernelspec": {
      "name": "python3",
      "display_name": "Python 3"
    },
    "language_info": {
      "name": "python"
    }
  },
  "cells": [
    {
      "cell_type": "markdown",
      "source": [
        "Tarea 1. MACMAI - Análsis de Datos con Python\n",
        "Alumno: Brandon Eduardo Antonio Gómez"
      ],
      "metadata": {
        "id": "vXHfsdtqQRwm"
      }
    },
    {
      "cell_type": "markdown",
      "source": [
        "1. Crea un bucle para obtener el promedio de todos los elementos que se encuentran en las siguientes listas:"
      ],
      "metadata": {
        "id": "UhAZRelBQjQj"
      }
    },
    {
      "cell_type": "code",
      "source": [
        "L1=[7.2,7.8,6.8,8.0,None,'8.2',5.6,8.2,7.7,7.5,None,5.8]\n",
        "L2=['6.8',None,6.8,6.1,7.9,9.4,None]\n",
        "L3=[8.5,'9.0',None,7.7]"
      ],
      "metadata": {
        "id": "FKJTgbElQdp0"
      },
      "execution_count": 7,
      "outputs": []
    },
    {
      "cell_type": "code",
      "source": [
        "# Se crea un bucle para calcular el promedio de los elementos de cada lista\n",
        "\n",
        "for i in L1:\n",
        "  if i == None and i=='8.2':\n",
        "    L1.remove(i)\n",
        "    print(f'El promedio de la lista L1 es: {sum(L1)/len(L1)}')\n",
        ""
      ],
      "metadata": {
        "id": "3fd7phI6QuZn"
      },
      "execution_count": 8,
      "outputs": []
    }
  ]
}