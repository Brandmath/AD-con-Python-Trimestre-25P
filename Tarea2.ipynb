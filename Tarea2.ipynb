{
  "nbformat": 4,
  "nbformat_minor": 0,
  "metadata": {
    "colab": {
      "provenance": []
    },
    "kernelspec": {
      "name": "python3",
      "display_name": "Python 3"
    },
    "language_info": {
      "name": "python"
    }
  },
  "cells": [
    {
      "cell_type": "markdown",
      "source": [
        "# **Tarea 2. Análisis de Datos con Python**\n",
        "Maestría en Ciencias Matemáticas Aplicadas e Industriales\n",
        "\n",
        "Brandon Eduardo Antonio Gómez"
      ],
      "metadata": {
        "id": "q_CQhOgdeCsH"
      }
    },
    {
      "cell_type": "markdown",
      "source": [
        "1.  Dada la siguiente lista de vectores en $\\mathbb{R}^3$\n",
        "\n",
        "$vectores=\\{[0,1,0], [1,1,0], [1,2,3], [-1, 0, 1], [0, 0, 1], [-1, 1, 0], [2, 1, 1], [3, 0.5, -1]\\}$\n",
        "\n",
        "escriba una función que calcule el ángulo que cada uno de estos vectores forma con respecto al vector fijo $a=[1,0,0]$\n",
        ", y muestre únicamente aquellos vectores cuyo ángulo sea mayor a $80°$, junto con el valor correspondiente del ángulo (en grados)."
      ],
      "metadata": {
        "id": "CxJxvOrvUKXg"
      }
    },
    {
      "cell_type": "code",
      "source": [
        "import numpy as np\n",
        "import pandas as pd\n",
        "lista_vector = [[0,1,0], [1,1,0], [1,2,3], [-1, 0, 1], [0, 0, 1],\n",
        "                [-1, 1, 0], [2, 1, 1], [3, 0.5, -1]]\n",
        "\n",
        "a= np.array([1, 0, 0]) # vector fijo\n",
        "\n",
        "# Se calcula el ángulo entre los vectores de la lista_vector y el vector fijo a\n",
        "# cos(theta)=a*b/||a||||b||\n",
        "\n",
        "def angulo_vectores(v,a):\n",
        "\n",
        "  cos_theta = np.dot(a,v)/(np.linalg.norm(a)*np.linalg.norm(v))\n",
        "  theta = np.arccos(cos_theta) # np.arcos(x) devuelve el ángulo en radianes\n",
        "  theta = np.degrees(theta) # se convierte a grados\n",
        "  return theta\n",
        "\n",
        "for v in lista_vector:\n",
        "  print(\"Los ángulos formados por el vector fijo 'a' y cada vector de la lista son: \")\n",
        "  print(angulo_vectores(v,a))"
      ],
      "metadata": {
        "id": "abxwbo6xePH8",
        "colab": {
          "base_uri": "https://localhost:8080/"
        },
        "outputId": "9e0121fc-5963-41f3-e840-3e0e6046a597"
      },
      "execution_count": 106,
      "outputs": [
        {
          "output_type": "stream",
          "name": "stdout",
          "text": [
            "Los ángulos formados por el vector fijo 'a' y cada vector de la lista son: \n",
            "90.0\n",
            "Los ángulos formados por el vector fijo 'a' y cada vector de la lista son: \n",
            "45.00000000000001\n",
            "Los ángulos formados por el vector fijo 'a' y cada vector de la lista son: \n",
            "74.498640433063\n",
            "Los ángulos formados por el vector fijo 'a' y cada vector de la lista son: \n",
            "135.0\n",
            "Los ángulos formados por el vector fijo 'a' y cada vector de la lista son: \n",
            "90.0\n",
            "Los ángulos formados por el vector fijo 'a' y cada vector de la lista son: \n",
            "135.0\n",
            "Los ángulos formados por el vector fijo 'a' y cada vector de la lista son: \n",
            "35.26438968275465\n",
            "Los ángulos formados por el vector fijo 'a' y cada vector de la lista son: \n",
            "20.439317573258254\n"
          ]
        }
      ]
    },
    {
      "cell_type": "code",
      "source": [
        "# Se define una función en donde el ángulo sea mayor a 80 grados\n",
        "\n",
        "def angulo_mayor_80(v,a):\n",
        "  # se crea una lista vacía\n",
        "  vectores_mayores_80 = []\n",
        "  for v in lista_vector:\n",
        "    angulo = angulo_vectores(v,a) # se guarda cada ángulo\n",
        "    if angulo > 80:\n",
        "      vectores_mayores_80.append((v, angulo))\n",
        "  return vectores_mayores_80\n",
        "\n",
        "print(\"Los vectores con un ángulo mayor a 80 grados son: \")\n",
        "print(angulo_mayor_80(v,a))"
      ],
      "metadata": {
        "colab": {
          "base_uri": "https://localhost:8080/"
        },
        "id": "W5eK5G5EPsll",
        "outputId": "2eac2413-4a2a-4725-8389-4ba2d113e23b"
      },
      "execution_count": 107,
      "outputs": [
        {
          "output_type": "stream",
          "name": "stdout",
          "text": [
            "Los vectores con un ángulo mayor a 80 grados son: \n",
            "[([0, 1, 0], np.float64(90.0)), ([-1, 0, 1], np.float64(135.0)), ([0, 0, 1], np.float64(90.0)), ([-1, 1, 0], np.float64(135.0))]\n"
          ]
        }
      ]
    },
    {
      "cell_type": "markdown",
      "source": [
        "2. Sea la siguiente función definida por partes:\n",
        "\n",
        "$f(x,y)= \\begin{cases}\n",
        "  \\sin(x^2+y^2), & \\text{si} \\quad x^2+y^2 \\leq 4 \\\\\n",
        "  \\cos(x-y), & \\text{si} \\quad 4 < x^2+y^2< 12 \\\\\n",
        "  -1, & \\text{si}\\quad 12 \\leq x^2 + y^2\n",
        "  \\end{cases}$\n",
        "\n",
        "visualizar la función en el dominio $[-6,6] \\times [-6,6]$\n",
        "utilizando\n",
        "\n",
        "```\n",
        "plt.imshow()\n",
        "```"
      ],
      "metadata": {
        "id": "zbHFEYCzUHxi"
      }
    },
    {
      "cell_type": "code",
      "source": [
        "# se importa las biblioteca matplotlib\n",
        "import matplotlib.pyplot as plt"
      ],
      "metadata": {
        "id": "IJyVuSKfbd3c"
      },
      "execution_count": 108,
      "outputs": []
    },
    {
      "cell_type": "code",
      "source": [
        "# Se crea una malla\n",
        "x = np.linspace(-6, 6, 500)\n",
        "y = np.linspace(-6, 6, 500)\n"
      ],
      "metadata": {
        "id": "R-pUp6weWfGA"
      },
      "execution_count": 109,
      "outputs": []
    },
    {
      "cell_type": "code",
      "source": [
        "X, Y = np.meshgrid(x, y)"
      ],
      "metadata": {
        "id": "dzm3icaJaDbR"
      },
      "execution_count": 110,
      "outputs": []
    },
    {
      "cell_type": "code",
      "source": [
        "# se inicializa la matriz en donse se van a guardar los valores de cada función\n",
        "Z = np.zeros_like(X)\n",
        "Z"
      ],
      "metadata": {
        "id": "y-__gPT2ipuz",
        "colab": {
          "base_uri": "https://localhost:8080/"
        },
        "outputId": "e83f4a12-2af6-4bea-8e24-6f1c93d03726"
      },
      "execution_count": 111,
      "outputs": [
        {
          "output_type": "execute_result",
          "data": {
            "text/plain": [
              "array([[0., 0., 0., ..., 0., 0., 0.],\n",
              "       [0., 0., 0., ..., 0., 0., 0.],\n",
              "       [0., 0., 0., ..., 0., 0., 0.],\n",
              "       ...,\n",
              "       [0., 0., 0., ..., 0., 0., 0.],\n",
              "       [0., 0., 0., ..., 0., 0., 0.],\n",
              "       [0., 0., 0., ..., 0., 0., 0.]])"
            ]
          },
          "metadata": {},
          "execution_count": 111
        }
      ]
    },
    {
      "cell_type": "code",
      "source": [
        "# se definen las regiones\n",
        "Region_1 = (X**2 + Y**2) <= 4\n",
        "Region_2 = (4 < (X**2 + Y**2)) & ((X**2 + Y**2) < 12)\n",
        "Region_3 = (12 <= (X**2 + Y**2))"
      ],
      "metadata": {
        "id": "79VzR3S6i6lt"
      },
      "execution_count": 112,
      "outputs": []
    },
    {
      "cell_type": "code",
      "source": [
        "# se define la función por partes(valores por regiones)\n",
        "Z[Region_1] = np.sin(X[Region_1]**2 + Y[Region_1]**2)\n",
        "Z[Region_2] = np.cos(X[Region_2]-Y[Region_2])\n",
        "Z[Region_3] = -1"
      ],
      "metadata": {
        "id": "i-6WNi7IjN75"
      },
      "execution_count": 113,
      "outputs": []
    },
    {
      "cell_type": "code",
      "source": [
        "# Visulaización de la función\n",
        "plt.figure(figsize=(8, 10))\n",
        "plt.imshow(Z, cmap='magma', extent=[-6, 6, -6, 6])\n",
        "plt.colorbar(label='Valor de la función f(x,y)')\n",
        "plt.xlabel('Eje X')\n",
        "plt.ylabel('Eje Y')\n",
        "plt.title('Visualización de la función')\n",
        "plt.show()"
      ],
      "metadata": {
        "colab": {
          "base_uri": "https://localhost:8080/",
          "height": 820
        },
        "id": "y9CoJGqnjh2f",
        "outputId": "d8366eca-332c-41bc-bca4-ca585573435f"
      },
      "execution_count": 114,
      "outputs": [
        {
          "output_type": "display_data",
          "data": {
            "text/plain": [
              "<Figure size 800x1000 with 2 Axes>"
            ],
            "image/png": "[encoded data removed]"
          },
          "metadata": {}
        }
      ]
    },
    {
      "cell_type": "markdown",
      "source": [
        "3.  Resuelva el siguiente sistema de ecuaciones lineales:\n",
        "\n",
        "$2x_1-x_2+3x_3+x_4-x_5 = 7 \\\\\n",
        "x_1+2x_2-x_3+2x_4+x_5 =4 \\\\\n",
        "3x_1-x_2+x_3-x_4+2x_5 = 10 \\\\\n",
        "x_1+x_2+x_3+x_4+x_5 = 5 \\\\\n",
        "-2x_1+4x_2+x_3-3x_4+x_5 = 0\n",
        "$\n",
        "\n",
        "* Resolver el sistema\n",
        "\n",
        "* Verificar la solución sustituyéndola en la ecuación original y evaluando $\\|A\\textbf{x}-\\textbf{b}\\|$"
      ],
      "metadata": {
        "id": "GpcLccKnl51s"
      }
    },
    {
      "cell_type": "code",
      "source": [
        "# Se requeire resolver el sistema Ax-b = 0 ó Ax=b\n",
        "#se define la matriz del sistema\n",
        "A = np.array([[2,-1,3,1,-1],\n",
        "            [1,2,-1,2,1],\n",
        "            [3,-1,1,-1,2],\n",
        "            [1,1,1,1,1],\n",
        "            [-2,4,1,-3,1]])\n",
        "# vector independiente\n",
        "b = np.array([7,4,10,5,0])\n"
      ],
      "metadata": {
        "id": "xZLaKMXZmOrX"
      },
      "execution_count": 115,
      "outputs": []
    },
    {
      "cell_type": "code",
      "source": [
        "# primero se verifica si el determinante de la matriz A es diferente de 0\n",
        "det_A = np.linalg.det(A)\n",
        "print('El determinante de la matriz A es:', det_A)"
      ],
      "metadata": {
        "colab": {
          "base_uri": "https://localhost:8080/"
        },
        "id": "4bCS3mrEzRTk",
        "outputId": "3d69f277-a6b1-4fd4-cd65-83dd9f3c7337"
      },
      "execution_count": 116,
      "outputs": [
        {
          "output_type": "stream",
          "name": "stdout",
          "text": [
            "El determinante de la matriz A es: -144.99999999999997\n"
          ]
        }
      ]
    },
    {
      "cell_type": "markdown",
      "source": [
        "como $det(A)\\neq 0 ⇒ \\exists  A^{-1}, \\therefore $ se procede a resolver el sistema"
      ],
      "metadata": {
        "id": "oasVJohlzeSN"
      }
    },
    {
      "cell_type": "code",
      "source": [
        "# Se resulve el sistema Ax-b=0 aplicando la inversa => x =A^(-1)*b\n",
        "x = np.dot(np.linalg.inv(A), b)\n",
        "print('La solución es [x1, x2, x3, x4, x5]:\\n',x)"
      ],
      "metadata": {
        "colab": {
          "base_uri": "https://localhost:8080/"
        },
        "id": "iGKU433vyW5n",
        "outputId": "69c33a5f-5cad-4477-8eeb-70baa734f3d6"
      },
      "execution_count": 117,
      "outputs": [
        {
          "output_type": "stream",
          "name": "stdout",
          "text": [
            "La solución es [x1, x2, x3, x4, x5]:\n",
            " [ 3.03448276  1.          0.86206897 -0.27586207  0.37931034]\n"
          ]
        }
      ]
    },
    {
      "cell_type": "code",
      "source": [
        "# se verifica la solución sistituyendo en la ecuación original\n",
        "verificar_sol = np.dot(A,x)-b\n",
        "verificar_sol"
      ],
      "metadata": {
        "colab": {
          "base_uri": "https://localhost:8080/"
        },
        "id": "hbZ8KRdnxJal",
        "outputId": "b259b34e-52ea-4ad7-ff1f-5d37d459770d"
      },
      "execution_count": 118,
      "outputs": [
        {
          "output_type": "execute_result",
          "data": {
            "text/plain": [
              "array([ 0.00000000e+00,  1.77635684e-15,  0.00000000e+00,  0.00000000e+00,\n",
              "       -4.44089210e-16])"
            ]
          },
          "metadata": {},
          "execution_count": 118
        }
      ]
    },
    {
      "cell_type": "code",
      "source": [
        "verificar_sol.round()"
      ],
      "metadata": {
        "colab": {
          "base_uri": "https://localhost:8080/"
        },
        "id": "ueFwItqvLIks",
        "outputId": "c073ca1a-52b8-4809-da61-7aaf64d5253c"
      },
      "execution_count": 119,
      "outputs": [
        {
          "output_type": "execute_result",
          "data": {
            "text/plain": [
              "array([ 0.,  0.,  0.,  0., -0.])"
            ]
          },
          "metadata": {},
          "execution_count": 119
        }
      ]
    },
    {
      "cell_type": "code",
      "source": [
        "np.linalg.norm(np.dot(A,x)-b)"
      ],
      "metadata": {
        "id": "kd1B2VK1x01x",
        "colab": {
          "base_uri": "https://localhost:8080/"
        },
        "outputId": "f11f7fa7-5d17-43bf-9e94-2e9c2a2f7ab3"
      },
      "execution_count": 120,
      "outputs": [
        {
          "output_type": "execute_result",
          "data": {
            "text/plain": [
              "np.float64(1.831026719408895e-15)"
            ]
          },
          "metadata": {},
          "execution_count": 120
        }
      ]
    },
    {
      "cell_type": "code",
      "source": [
        "np.linalg.norm(np.dot(A,x)-b).round()"
      ],
      "metadata": {
        "colab": {
          "base_uri": "https://localhost:8080/"
        },
        "id": "43z7Saesk-9m",
        "outputId": "98836f08-33e1-44c1-8bc7-8fc5c52180c7"
      },
      "execution_count": 121,
      "outputs": [
        {
          "output_type": "execute_result",
          "data": {
            "text/plain": [
              "np.float64(0.0)"
            ]
          },
          "metadata": {},
          "execution_count": 121
        }
      ]
    },
    {
      "cell_type": "markdown",
      "source": [
        "4. Generar un array de 400 números aleatorios con distribución normal de media 10 y desviación estándar 2.\n",
        "\n",
        "* Calcula la media y desviación estándar de la muestra.\n",
        "\n",
        "* ¿Cuántos valores están entre 8 y 12?"
      ],
      "metadata": {
        "id": "ACd1reA10S6M"
      }
    },
    {
      "cell_type": "code",
      "source": [
        "import random as rd\n",
        "\n",
        "# Se genera un arreglo de 400 números aleatorios con distribución normal\n",
        "# con mu =10, sigma =2\n",
        "muestra = np.random.normal(10, 2, 400)\n",
        "muestra\n"
      ],
      "metadata": {
        "id": "p8wEPWgN14OS",
        "colab": {
          "base_uri": "https://localhost:8080/"
        },
        "outputId": "1e80a3cf-b4d6-4bae-dbca-eb968a6e9778"
      },
      "execution_count": 122,
      "outputs": [
        {
          "output_type": "execute_result",
          "data": {
            "text/plain": [
              "array([12.40054285,  9.42394229, 10.26070112,  7.50304101,  9.77644014,\n",
              "       10.40558031, 10.14867864,  8.83249512,  6.03703254,  9.34898474,\n",
              "        7.12879284,  7.21069742, 12.33161902,  9.29367822, 12.83222325,\n",
              "       10.50231866, 10.44079611, 10.29790768, 13.24544737,  8.3567076 ,\n",
              "        7.57004492,  8.95836515,  8.57905373, 14.59221428,  9.25294083,\n",
              "       10.48824629, 10.39216414, 12.65259284,  8.60304311, 10.33569908,\n",
              "        9.99661308,  8.31586834, 10.73979391, 11.85434333, 10.16616107,\n",
              "        9.80494077, 10.75780967,  7.73958837, 12.03998051, 11.00136007,\n",
              "       12.23606771,  5.49986701, 14.64296381, 10.99032733, 11.43555284,\n",
              "       11.14327791,  9.70794139,  6.47002324, 12.316132  ,  9.53654629,\n",
              "       10.16724405,  8.05552326, 11.7683575 , 12.87805541, 10.94641503,\n",
              "        7.18477309,  9.90621186, 10.00036392,  8.06442765,  7.98780302,\n",
              "       10.99645208, 11.50120844, 11.25952094, 11.17003058,  6.7032449 ,\n",
              "       11.59435004,  9.44779414, 10.79653927,  9.8789412 , 11.3430664 ,\n",
              "       10.22425568,  7.21748555,  6.04889748, 11.66879641,  9.82275939,\n",
              "        9.10677885, 10.85007019,  9.60803903, 10.31370803,  6.17702398,\n",
              "       10.51953956, 10.0628837 , 13.76620502,  9.98458129,  9.69349299,\n",
              "        7.70635467, 11.74682093, 10.4045577 , 10.96608553,  8.76189757,\n",
              "       11.09939945,  9.96932998, 12.13755326,  8.2638572 ,  8.35680324,\n",
              "       10.72431393,  7.12381499, 10.36359186,  8.37061677, 10.5703968 ,\n",
              "       13.1052755 ,  9.00313493, 12.63750217, 11.49001125,  9.93438623,\n",
              "       10.86233434,  8.90020172, 13.23926578,  6.43201937,  8.98910714,\n",
              "       11.8007338 ,  9.95823618, 12.64069628,  9.28094012, 10.37184685,\n",
              "       11.55135659,  8.96047915,  8.5568451 ,  7.704689  ,  9.48770406,\n",
              "        9.47985374, 10.17059285, 11.61166153, 14.49502966, 11.96928132,\n",
              "        9.22713444,  9.06404958,  9.99295969,  8.32278088, 13.12477399,\n",
              "       10.28751663,  8.22094153,  8.91837012, 11.00625415, 12.09040602,\n",
              "        9.740618  , 16.14637077, 10.39475695, 10.27712146, 10.04379194,\n",
              "       10.73402911,  8.45219276,  9.15329247, 11.70059367,  8.02499887,\n",
              "        8.70914171, 13.83667581, 12.46530687, 11.07186048,  8.27238266,\n",
              "       10.61659835,  7.08172175,  9.97565095,  8.1323516 , 10.91765787,\n",
              "       10.30419369, 11.12603978, 11.31781355,  6.50485848, 11.58523705,\n",
              "        9.36462422,  4.50897249,  9.66116122, 10.01020847, 12.03736955,\n",
              "        6.18678967,  7.20408611, 11.83802736, 10.80885475,  9.68329694,\n",
              "        7.33122368, 10.27025322,  7.72006226, 11.62007154, 12.83248545,\n",
              "        9.41705013, 10.69653678,  9.1953113 , 10.88729605,  5.64524049,\n",
              "        8.88568714,  8.47879717, 12.07418176, 10.63829625, 11.85239472,\n",
              "       11.07758707,  9.98788131,  8.47862268, 12.13094578, 11.86751581,\n",
              "       14.91375329, 11.37957187,  8.5764951 ,  9.92651058,  9.67544522,\n",
              "        9.75715646, 10.97329823, 13.23819892, 11.83628763, 11.30438055,\n",
              "       10.55339237,  8.67642209,  7.44667466, 10.23190036, 13.57003418,\n",
              "       12.23110617, 12.12509011, 11.05748657,  7.77700985,  6.8027107 ,\n",
              "        8.55878983,  8.65759729, 11.07675314,  8.3907299 ,  9.5364432 ,\n",
              "        6.32682788, 10.70774684,  9.69307112, 10.48790981,  9.11961935,\n",
              "       11.00884119,  8.60361914, 12.92659134,  9.57940362,  8.46960108,\n",
              "       12.26189358,  9.77399761, 10.2437475 , 10.21749723, 10.63271845,\n",
              "        7.82020624, 13.62476379, 10.24541534, 12.06466336,  8.48935403,\n",
              "       10.40057198,  8.02241852,  6.86306463, 10.66052365, 11.00395344,\n",
              "        7.39541416, 12.92793448, 10.33789907,  8.40768394,  9.45303024,\n",
              "        8.13574729, 10.86685529,  8.08303443, 15.70185716,  8.90278375,\n",
              "       10.14963939, 10.06704612, 10.11490507,  7.76399611, 12.98639342,\n",
              "        8.79883229, 10.73808837, 11.98963078,  7.354356  ,  8.65242645,\n",
              "        8.60786241, 10.30153788, 10.88272124,  9.05663535,  9.56498173,\n",
              "       11.34659514, 11.62291148,  8.22716249, 12.86539387, 11.49237962,\n",
              "       10.65722175,  7.26851854,  9.31678889, 11.9386421 ,  9.34516484,\n",
              "       11.64473583, 13.56368109,  9.68205993, 12.75902261,  9.29728587,\n",
              "       10.05290156, 10.65847676,  8.7865438 , 11.54555497, 13.78506191,\n",
              "       10.88397412, 10.79975355, 10.11778889,  9.81354261, 10.38149487,\n",
              "        9.47194039,  7.02364503,  7.38337922, 11.1571467 ,  9.84350189,\n",
              "       10.02041924,  6.99425648,  8.26212061,  9.25518421,  8.54444357,\n",
              "       10.08457806, 11.17875937,  6.38132942,  9.68805705, 10.40898561,\n",
              "       13.35667389,  7.62059122,  6.40626509,  9.44294083, 13.00756115,\n",
              "        8.65984363, 11.66633343,  7.26217737, 12.17949474, 10.86434749,\n",
              "       10.4459357 , 14.17019886, 12.53735414,  9.57138135, 10.71389094,\n",
              "        9.00871494, 10.04134144, 12.2646619 ,  4.10311026,  9.55447391,\n",
              "        9.07695987, 11.00392544,  8.39191699, 12.01127173,  6.14045103,\n",
              "        9.23284672,  8.89496992,  8.42419208,  9.93584911, 11.59510694,\n",
              "       12.88907696, 12.02713588, 10.90672251,  8.17390798,  7.95903042,\n",
              "       11.88306433,  8.8730674 , 10.39935085,  4.02979563, 13.74808433,\n",
              "        8.60179477,  9.32336744, 12.01859352,  4.67771769,  9.46201652,\n",
              "       13.37978925,  9.57591579,  9.29466483, 10.25214182,  9.75199399,\n",
              "        8.84243069, 10.95304232, 11.99390281, 12.65649464,  7.19562675,\n",
              "        9.98294798, 10.61342945,  8.7262711 , 10.0397056 ,  6.64771388,\n",
              "        8.63232571, 10.71643136,  7.27511889, 10.94466287,  9.63042224,\n",
              "        8.94249915, 12.52725488,  7.73735587,  9.52974512,  6.71498003,\n",
              "       11.26855458,  7.60487102,  9.83806375, 10.29378178,  9.52860498,\n",
              "        9.1512423 , 10.98728839,  4.61372217,  5.53921481,  9.70031465,\n",
              "        7.81518707, 12.41910974,  7.37058139, 12.83474794, 10.00908656,\n",
              "       10.8796193 , 10.91085379, 10.43074679, 12.571132  ,  8.77485868,\n",
              "        9.77417176,  6.91757678, 11.95022524,  9.92879831,  9.18261577])"
            ]
          },
          "metadata": {},
          "execution_count": 122
        }
      ]
    },
    {
      "cell_type": "code",
      "source": [
        "# Cálculo de la media de la muestra aleatoria\n",
        "media_muestra = np.mean(muestra)\n",
        "print('La media de la muestra aleatoria es:', media_muestra)"
      ],
      "metadata": {
        "id": "2HBXbH4t53io",
        "colab": {
          "base_uri": "https://localhost:8080/"
        },
        "outputId": "13e6e35d-b485-47b5-9dca-a11da9b19ad1"
      },
      "execution_count": 123,
      "outputs": [
        {
          "output_type": "stream",
          "name": "stdout",
          "text": [
            "La media de la muestra aleatoria es: 9.981160358983415\n"
          ]
        }
      ]
    },
    {
      "cell_type": "code",
      "source": [
        "# Cáclulo de la desviación estándar de la muestra aleatoria\n",
        "desviacion_muestra = np.std(muestra)\n",
        "print('La desviación estándar de la muestra aleatoria es:', desviacion_muestra)"
      ],
      "metadata": {
        "id": "poO7PyAG6LPs",
        "colab": {
          "base_uri": "https://localhost:8080/"
        },
        "outputId": "84f95080-ab26-4a6f-b140-0a5d87044b08"
      },
      "execution_count": 124,
      "outputs": [
        {
          "output_type": "stream",
          "name": "stdout",
          "text": [
            "La desviación estándar de la muestra aleatoria es: 1.962726706220005\n"
          ]
        }
      ]
    },
    {
      "cell_type": "code",
      "source": [
        "# contar cuantos valores están entre 8 y 12\n",
        "valores_entre_8_y_12 = np.sum((muestra >= 8) & (muestra <= 12))\n",
        "print('La cantidad de valores que están entre 8 y 12 son:', valores_entre_8_y_12)"
      ],
      "metadata": {
        "id": "X-iqGMLV6qPB",
        "colab": {
          "base_uri": "https://localhost:8080/"
        },
        "outputId": "2be8865f-8989-4793-d523-90d0cc184036"
      },
      "execution_count": 125,
      "outputs": [
        {
          "output_type": "stream",
          "name": "stdout",
          "text": [
            "La cantidad de valores que están entre 8 y 12 son: 281\n"
          ]
        }
      ]
    },
    {
      "cell_type": "markdown",
      "source": [
        "5. Simular una muestra de 200 observaciones donde cada valor puede ser 'A', 'B' o 'C' con probabilidades 0.5, 0.3 y 0.2, respectivamente (np.random.choice). Cuenta cuántas veces ocurre cada categoría."
      ],
      "metadata": {
        "id": "2JUBznLMQEXe"
      }
    },
    {
      "cell_type": "code",
      "source": [
        "# Se genera una muestra aleatoria de 200 observaciones con valores A, B o C\n",
        "# con probabilidades 0.5, 0.3 y 0.2 respectivamente\n",
        "muestra_aleatoria = np.random.choice(['A', 'B', 'C'], size=200, p=[0.5, 0.3, 0.2])"
      ],
      "metadata": {
        "id": "_gsyiE1NQLLS"
      },
      "execution_count": 126,
      "outputs": []
    },
    {
      "cell_type": "code",
      "source": [
        "# Contar cuantas veces ocurre cada categoría\n",
        "contar_categorias = np.unique(muestra_aleatoria, return_counts=True)\n",
        "print('La cantidad de veces que ocurre cada categoría es:', contar_categorias)"
      ],
      "metadata": {
        "id": "lrOgJG6KQ_Bj",
        "colab": {
          "base_uri": "https://localhost:8080/"
        },
        "outputId": "a405fb5e-ad20-4f74-9016-e2020e403d77"
      },
      "execution_count": 127,
      "outputs": [
        {
          "output_type": "stream",
          "name": "stdout",
          "text": [
            "La cantidad de veces que ocurre cada categoría es: (array(['A', 'B', 'C'], dtype='<U1'), array([99, 67, 34]))\n"
          ]
        }
      ]
    },
    {
      "cell_type": "markdown",
      "source": [
        "6. Genera una señal base (por ejemplo, todos 100) y agrégale ruido gaussiano con desviación 5.\n",
        "\n",
        "* Grafica la señal ruidosa.\n",
        "\n",
        "* Calcula el error medio cuadrático con respecto a la señal original:\n",
        "\n"
      ],
      "metadata": {
        "id": "QjuoY4zfSSxT"
      }
    },
    {
      "cell_type": "code",
      "source": [
        "# se genera un señal con ruido gaussiano\n",
        "señal_base = np.ones(100) #y_i\n",
        "ruido = np.random.normal(0, 5, 100)\n",
        "señal_ruidosa = señal_base + ruido # \\hat{y^_i}"
      ],
      "metadata": {
        "id": "M4nQL91iSX5n"
      },
      "execution_count": 128,
      "outputs": []
    },
    {
      "cell_type": "code",
      "source": [
        "# Grafica de la señal ruidosa\n",
        "plt.plot(señal_ruidosa, color = 'orange')\n",
        "plt.title('Señal ruidosa')\n",
        "plt.show()"
      ],
      "metadata": {
        "id": "o9OnwmZoTE8r",
        "colab": {
          "base_uri": "https://localhost:8080/",
          "height": 452
        },
        "outputId": "cda5ff55-3126-4a21-db27-24ce6541a8ec"
      },
      "execution_count": 129,
      "outputs": [
        {
          "output_type": "display_data",
          "data": {
            "text/plain": [
              "<Figure size 640x480 with 1 Axes>"
            ],
            "image/png": "[encoded data removed]"
          },
          "metadata": {}
        }
      ]
    },
    {
      "cell_type": "markdown",
      "source": [
        "Se calcula el error cuadrático medio $MSE$:\n",
        "\n",
        "$MSE = \\sqrt{\\frac{1}{n}\\sum_{i=1}^{n}(y_i-\\hat{y})^2}$"
      ],
      "metadata": {
        "id": "QHCBWqJdTYp1"
      }
    },
    {
      "cell_type": "code",
      "source": [
        "# Cálculo del error cuadrático medio respecto a la señal\n",
        "MSE = np.mean((señal_base - señal_ruidosa)**2)\n",
        "print('El error cuadrático medio es:', MSE)\n"
      ],
      "metadata": {
        "id": "qU5Y_ZVtT6rE",
        "colab": {
          "base_uri": "https://localhost:8080/"
        },
        "outputId": "97f2ac5e-a76e-45b7-b737-f241bc07e11b"
      },
      "execution_count": 130,
      "outputs": [
        {
          "output_type": "stream",
          "name": "stdout",
          "text": [
            "El error cuadrático medio es: 22.845830436434127\n"
          ]
        }
      ]
    },
    {
      "cell_type": "markdown",
      "source": [
        "7. Dada la siguiente lista:\n",
        "\n",
        "cadenas = [ ' juanperez!!', 'ana#LOPEZ? ', 'm@rio@@gomez', 'luis #MORA%%', 'carla!!méndóza ', 'PEDRO?ROSALES###', 'sofia#cano ', 'miguel//torres', 'lucia #ramirez:', ' josé+fernández ', ' camila#RUIZ', 'marcoantonio&', 'isaBel!!GARZA', '#roberto flores* ', ' emiLIA?Reyes!', 'DANIEL* #Martinez', ' andrés#s@las', 'pablo TORO/', ' yeSEnIa!lópez ', 'elena#morales?', 'Nicolásrodríguez', ' carmen?LUNA:', 'Rosa#AVILA', 'oscar?pineda;', 'alejandra!ríos+', 'IGNACIO#HERRERA ', ' sergioMENDOZA', 'tomás#ramírez=', 'ANDREA!MORENO?', '#manuel ortíz ', 'cristinaFLORES@', ' arturo#valdez;', 'LAURAméndez', 'mariana?ibarra!', ' esteban#quiroz ', 'valeria!CASTILLO', 'renata#DE la cruz', 'fernando?Vega:', 'irma!ZAPATA%', 'francisco#romero ', 'aliciaLara=', 'liliana#MENDEZ&', 'matías#galván;', '#ricardo!Ríos', ' catalinaALVARADO%', 'gustavo!morales+', 'natalia#VILLARREAL:', 'andréapáez;', ' Ramónsalinas!', ' david#molina ' ]\n",
        "\n",
        "Limpie la lista 'cadenas'\n",
        "Obtenga 50 etiquetas con el código: [f'id_{i:03}' for i in range(1, 51)]\n",
        "Obtenga un objeto Series con la lista 'cadenas' indexado con las etiquetas obtenidas."
      ],
      "metadata": {
        "id": "uQ85k-q8SZA1"
      }
    },
    {
      "cell_type": "code",
      "source": [
        "# La lista a limpiar es:\n",
        "cadenas = [ ' juanperez!!', 'ana#LOPEZ? ', 'm@rio@@gomez', 'luis #MORA%%',\n",
        "    'carla!!méndóza ', 'PEDRO?ROSALES###', 'sofia#cano ', 'miguel//torres',\n",
        "    'lucia #ramirez:', ' josé+fernández ', ' camila#RUIZ', 'marcoantonio&',\n",
        "    'isaBel!!GARZA', '#roberto flores* ', ' emiLIA?Reyes!', 'DANIEL* #Martinez',\n",
        "    ' andrés#s@las', 'pablo TORO/', ' yeSEnIa!lópez ', 'elena#morales?',\n",
        "    'Nicolásrodríguez', ' carmen?LUNA:', 'Rosa#AVILA', 'oscar?pineda;',\n",
        "    'alejandra!ríos+', 'IGNACIO#HERRERA ', ' sergioMENDOZA', 'tomás#ramírez=',\n",
        "    'ANDREA!MORENO?', '#manuel ortíz ', 'cristinaFLORES@', ' arturo#valdez;',\n",
        "    'LAURAméndez', 'mariana?ibarra!', ' esteban#quiroz ', 'valeria!CASTILLO',\n",
        "    'renata#DE la cruz', 'fernando?Vega:', 'irma!ZAPATA%', 'francisco#romero ',\n",
        "    'aliciaLara=', 'liliana#MENDEZ&', 'matías#galván;', '#ricardo!Ríos',\n",
        "    ' catalinaALVARADO%', 'gustavo!morales+', 'natalia#VILLARREAL:',\n",
        "    'andréapáez;', ' Ramónsalinas!', ' david#molina ' ]\n"
      ],
      "metadata": {
        "id": "UDK-3gx-SfBx"
      },
      "execution_count": 131,
      "outputs": []
    },
    {
      "cell_type": "code",
      "source": [
        "# se define un str cadena de caracteres\n",
        "letras_validas = 'abcdefghijklmnopqrstuvwxyzABCDEFGHIJKLMNOPQRSTUVWXYZáéíóúÁÉÍÓÚñÑ '\n"
      ],
      "metadata": {
        "id": "UWKuc54gYC9-"
      },
      "execution_count": 132,
      "outputs": []
    },
    {
      "cell_type": "code",
      "source": [
        "# Se defiene una lista limpia\n",
        "lista_limpia = []\n",
        "\n",
        "# se utiliza un ciclo for para hacer la limpieza\n",
        "for i in cadenas:\n",
        "  nueva_cadena = ''\n",
        "  for j in i:\n",
        "    if j in letras_validas:\n",
        "      nueva_cadena += j\n",
        "      nueva_cadena = nueva_cadena.strip() # se quitan espacios al inicio y fin\n",
        "      nueva_cadena = nueva_cadena.upper() # se pasa a mayúsculas\n",
        "  lista_limpia.append(nueva_cadena)\n",
        "\n",
        "for x in lista_limpia:\n",
        "  print(x)"
      ],
      "metadata": {
        "colab": {
          "base_uri": "https://localhost:8080/"
        },
        "id": "1lAmgSvdU3He",
        "outputId": "c3861cd9-3235-414e-cd86-708601968888"
      },
      "execution_count": 133,
      "outputs": [
        {
          "output_type": "stream",
          "name": "stdout",
          "text": [
            "JUANPEREZ\n",
            "ANALOPEZ\n",
            "MRIOGOMEZ\n",
            "LUISMORA\n",
            "CARLAMÉNDÓZA\n",
            "PEDROROSALES\n",
            "SOFIACANO\n",
            "MIGUELTORRES\n",
            "LUCIARAMIREZ\n",
            "JOSÉFERNÁNDEZ\n",
            "CAMILARUIZ\n",
            "MARCOANTONIO\n",
            "ISABELGARZA\n",
            "ROBERTOFLORES\n",
            "EMILIAREYES\n",
            "DANIELMARTINEZ\n",
            "ANDRÉSSLAS\n",
            "PABLOTORO\n",
            "YESENIALÓPEZ\n",
            "ELENAMORALES\n",
            "NICOLÁSRODRÍGUEZ\n",
            "CARMENLUNA\n",
            "ROSAAVILA\n",
            "OSCARPINEDA\n",
            "ALEJANDRARÍOS\n",
            "IGNACIOHERRERA\n",
            "SERGIOMENDOZA\n",
            "TOMÁSRAMÍREZ\n",
            "ANDREAMORENO\n",
            "MANUELORTÍZ\n",
            "CRISTINAFLORES\n",
            "ARTUROVALDEZ\n",
            "LAURAMÉNDEZ\n",
            "MARIANAIBARRA\n",
            "ESTEBANQUIROZ\n",
            "VALERIACASTILLO\n",
            "RENATADELACRUZ\n",
            "FERNANDOVEGA\n",
            "IRMAZAPATA\n",
            "FRANCISCOROMERO\n",
            "ALICIALARA\n",
            "LILIANAMENDEZ\n",
            "MATÍASGALVÁN\n",
            "RICARDORÍOS\n",
            "CATALINAALVARADO\n",
            "GUSTAVOMORALES\n",
            "NATALIAVILLARREAL\n",
            "ANDRÉAPÁEZ\n",
            "RAMÓNSALINAS\n",
            "DAVIDMOLINA\n"
          ]
        }
      ]
    },
    {
      "cell_type": "code",
      "source": [
        "# se generan etiquetas de id_001 a id_050\n",
        "etiquetas = [f'id_{i:03}' for i in range(1, 51)]\n",
        "\n",
        "# Crear la serie indexada\n",
        "nombres_series = pd.Series(lista_limpia, index=etiquetas)\n",
        "\n",
        "# Imprimir resultado\n",
        "print(nombres_series)"
      ],
      "metadata": {
        "colab": {
          "base_uri": "https://localhost:8080/"
        },
        "id": "joNCwzpzNdhW",
        "outputId": "2d7c3af6-bd16-49fe-d555-d9188d6d2daa"
      },
      "execution_count": 134,
      "outputs": [
        {
          "output_type": "stream",
          "name": "stdout",
          "text": [
            "id_001            JUANPEREZ\n",
            "id_002             ANALOPEZ\n",
            "id_003            MRIOGOMEZ\n",
            "id_004             LUISMORA\n",
            "id_005         CARLAMÉNDÓZA\n",
            "id_006         PEDROROSALES\n",
            "id_007            SOFIACANO\n",
            "id_008         MIGUELTORRES\n",
            "id_009         LUCIARAMIREZ\n",
            "id_010        JOSÉFERNÁNDEZ\n",
            "id_011           CAMILARUIZ\n",
            "id_012         MARCOANTONIO\n",
            "id_013          ISABELGARZA\n",
            "id_014        ROBERTOFLORES\n",
            "id_015          EMILIAREYES\n",
            "id_016       DANIELMARTINEZ\n",
            "id_017           ANDRÉSSLAS\n",
            "id_018            PABLOTORO\n",
            "id_019         YESENIALÓPEZ\n",
            "id_020         ELENAMORALES\n",
            "id_021     NICOLÁSRODRÍGUEZ\n",
            "id_022           CARMENLUNA\n",
            "id_023            ROSAAVILA\n",
            "id_024          OSCARPINEDA\n",
            "id_025        ALEJANDRARÍOS\n",
            "id_026       IGNACIOHERRERA\n",
            "id_027        SERGIOMENDOZA\n",
            "id_028         TOMÁSRAMÍREZ\n",
            "id_029         ANDREAMORENO\n",
            "id_030          MANUELORTÍZ\n",
            "id_031       CRISTINAFLORES\n",
            "id_032         ARTUROVALDEZ\n",
            "id_033          LAURAMÉNDEZ\n",
            "id_034        MARIANAIBARRA\n",
            "id_035        ESTEBANQUIROZ\n",
            "id_036      VALERIACASTILLO\n",
            "id_037       RENATADELACRUZ\n",
            "id_038         FERNANDOVEGA\n",
            "id_039           IRMAZAPATA\n",
            "id_040      FRANCISCOROMERO\n",
            "id_041           ALICIALARA\n",
            "id_042        LILIANAMENDEZ\n",
            "id_043         MATÍASGALVÁN\n",
            "id_044          RICARDORÍOS\n",
            "id_045     CATALINAALVARADO\n",
            "id_046       GUSTAVOMORALES\n",
            "id_047    NATALIAVILLARREAL\n",
            "id_048           ANDRÉAPÁEZ\n",
            "id_049         RAMÓNSALINAS\n",
            "id_050          DAVIDMOLINA\n",
            "dtype: object\n"
          ]
        }
      ]
    }
  ]
}